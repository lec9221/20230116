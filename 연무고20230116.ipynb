{
  "nbformat": 4,
  "nbformat_minor": 0,
  "metadata": {
    "colab": {
      "provenance": []
    },
    "kernelspec": {
      "name": "python3",
      "display_name": "Python 3"
    },
    "language_info": {
      "name": "python"
    }
  },
  "cells": [
    {
      "cell_type": "code",
      "execution_count": null,
      "metadata": {
        "colab": {
          "base_uri": "https://localhost:8080/"
        },
        "id": "6noFPipJBzbj",
        "outputId": "2ae67232-eb7c-4647-b5dc-4d91d56748d2"
      },
      "outputs": [
        {
          "output_type": "stream",
          "name": "stdout",
          "text": [
            "365\n"
          ]
        }
      ],
      "source": [
        "print(365) # print 함수 input()"
      ]
    },
    {
      "cell_type": "code",
      "source": [
        "print(365+1)"
      ],
      "metadata": {
        "colab": {
          "base_uri": "https://localhost:8080/"
        },
        "id": "s4kvt4cRDQFf",
        "outputId": "eb797801-f52a-48d3-88c3-9b58826b988f"
      },
      "execution_count": null,
      "outputs": [
        {
          "output_type": "stream",
          "name": "stdout",
          "text": [
            "366\n"
          ]
        }
      ]
    },
    {
      "cell_type": "code",
      "source": [
        "print(1+2+3)"
      ],
      "metadata": {
        "colab": {
          "base_uri": "https://localhost:8080/"
        },
        "id": "oyBdRefxGJ7s",
        "outputId": "9be2b0c9-4307-4a1f-e049-a9197a7f01ed"
      },
      "execution_count": null,
      "outputs": [
        {
          "output_type": "stream",
          "name": "stdout",
          "text": [
            "6\n"
          ]
        }
      ]
    },
    {
      "cell_type": "code",
      "source": [
        "1+2+3"
      ],
      "metadata": {
        "colab": {
          "base_uri": "https://localhost:8080/"
        },
        "id": "tfVDMFBKGZnM",
        "outputId": "bf8c099f-db43-4c2a-fa20-f1610687b73f"
      },
      "execution_count": null,
      "outputs": [
        {
          "output_type": "execute_result",
          "data": {
            "text/plain": [
              "6"
            ]
          },
          "metadata": {},
          "execution_count": 4
        }
      ]
    },
    {
      "cell_type": "code",
      "source": [
        "print(3/6)"
      ],
      "metadata": {
        "colab": {
          "base_uri": "https://localhost:8080/"
        },
        "id": "dSfc3BDdGuEE",
        "outputId": "6c564fda-08fe-41fd-b7ac-04831695aff6"
      },
      "execution_count": null,
      "outputs": [
        {
          "output_type": "stream",
          "name": "stdout",
          "text": [
            "0.5\n"
          ]
        }
      ]
    },
    {
      "cell_type": "code",
      "source": [
        "10*7"
      ],
      "metadata": {
        "colab": {
          "base_uri": "https://localhost:8080/"
        },
        "id": "l-mLmgVUHDXs",
        "outputId": "9f02797b-8e8e-4002-a4ec-47a464078b2a"
      },
      "execution_count": null,
      "outputs": [
        {
          "output_type": "execute_result",
          "data": {
            "text/plain": [
              "70"
            ]
          },
          "metadata": {},
          "execution_count": 6
        }
      ]
    },
    {
      "cell_type": "code",
      "source": [
        "print(홍길동)"
      ],
      "metadata": {
        "colab": {
          "base_uri": "https://localhost:8080/",
          "height": 173
        },
        "id": "rllALG4aHnpM",
        "outputId": "5c0fa610-b6fe-492f-a73c-3f040f1116cd"
      },
      "execution_count": null,
      "outputs": [
        {
          "output_type": "error",
          "ename": "NameError",
          "evalue": "ignored",
          "traceback": [
            "\u001b[0;31m---------------------------------------------------------------------------\u001b[0m",
            "\u001b[0;31mNameError\u001b[0m                                 Traceback (most recent call last)",
            "\u001b[0;32m<ipython-input-7-53485605196e>\u001b[0m in \u001b[0;36m<module>\u001b[0;34m\u001b[0m\n\u001b[0;32m----> 1\u001b[0;31m \u001b[0mprint\u001b[0m\u001b[0;34m(\u001b[0m\u001b[0m홍길동\u001b[0m\u001b[0;34m)\u001b[0m\u001b[0;34m\u001b[0m\u001b[0;34m\u001b[0m\u001b[0m\n\u001b[0m",
            "\u001b[0;31mNameError\u001b[0m: name '홍길동' is not defined"
          ]
        }
      ]
    },
    {
      "cell_type": "code",
      "source": [
        "print(\"홍길동\")"
      ],
      "metadata": {
        "colab": {
          "base_uri": "https://localhost:8080/"
        },
        "id": "BnlCPzGpHxvc",
        "outputId": "224f4b74-15ec-4a22-a67d-4db10b2b3bba"
      },
      "execution_count": null,
      "outputs": [
        {
          "output_type": "stream",
          "name": "stdout",
          "text": [
            "홍길동\n"
          ]
        }
      ]
    },
    {
      "cell_type": "code",
      "source": [
        "print(\"홍\")"
      ],
      "metadata": {
        "colab": {
          "base_uri": "https://localhost:8080/"
        },
        "id": "N8J5vdz1IIZj",
        "outputId": "a7347444-5bc2-4fd7-aab0-6df7dcf51ff6"
      },
      "execution_count": null,
      "outputs": [
        {
          "output_type": "stream",
          "name": "stdout",
          "text": [
            "홍\n"
          ]
        }
      ]
    },
    {
      "cell_type": "code",
      "source": [
        "print(\"인공지능 수업\")"
      ],
      "metadata": {
        "colab": {
          "base_uri": "https://localhost:8080/"
        },
        "id": "WAST3nQ_IRwD",
        "outputId": "9fa04358-9bc5-479f-b31d-a399bd199326"
      },
      "execution_count": null,
      "outputs": [
        {
          "output_type": "stream",
          "name": "stdout",
          "text": [
            "인공지능 수업\n"
          ]
        }
      ]
    },
    {
      "cell_type": "code",
      "source": [
        "# 100 98 70 \n",
        "score1 = 100\n",
        "score2 = 98\n",
        "score3 = 70\n",
        "# 변수\n",
        "score = 100\n",
        "total = 0 # 총점의 초기값\n",
        "total = total + score\n",
        "score = 98\n",
        "total = total + score\n",
        "score = 70\n",
        "total = total + score\n",
        "average = total / 3\n"
      ],
      "metadata": {
        "id": "RqOlG-QtIy_z"
      },
      "execution_count": null,
      "outputs": []
    },
    {
      "cell_type": "code",
      "source": [
        "\"도은엽\"\n",
        "\"정용현\""
      ],
      "metadata": {
        "id": "7jlLXjR3IdeD"
      },
      "execution_count": null,
      "outputs": []
    },
    {
      "cell_type": "code",
      "source": [
        "# 입력\n",
        "name = input(\"이름을 입력하세요: \")"
      ],
      "metadata": {
        "colab": {
          "base_uri": "https://localhost:8080/",
          "height": 53
        },
        "id": "XwDkCMNKMBlq",
        "outputId": "9e885d18-f00c-4ebe-a0a2-8d4676258928"
      },
      "execution_count": null,
      "outputs": [
        {
          "name": "stdout",
          "output_type": "stream",
          "text": [
            "이름을 입력하세요: 홍길동\n"
          ]
        },
        {
          "output_type": "execute_result",
          "data": {
            "text/plain": [
              "'홍길동'"
            ],
            "application/vnd.google.colaboratory.intrinsic+json": {
              "type": "string"
            }
          },
          "metadata": {},
          "execution_count": 11
        }
      ]
    },
    {
      "cell_type": "code",
      "source": [
        "name = input(\"이름을 입력하세요: \")"
      ],
      "metadata": {
        "colab": {
          "base_uri": "https://localhost:8080/"
        },
        "id": "13ZzEcdbMUTc",
        "outputId": "7d814092-3207-43b2-e996-5095aa9d1ec7"
      },
      "execution_count": null,
      "outputs": [
        {
          "name": "stdout",
          "output_type": "stream",
          "text": [
            "이름을 입력하세요: 도은엽\n"
          ]
        }
      ]
    },
    {
      "cell_type": "code",
      "source": [
        "name"
      ],
      "metadata": {
        "colab": {
          "base_uri": "https://localhost:8080/",
          "height": 35
        },
        "id": "Zaasn2ctMsfZ",
        "outputId": "dd37ea76-e154-48f8-aa6e-c21f04379af9"
      },
      "execution_count": null,
      "outputs": [
        {
          "output_type": "execute_result",
          "data": {
            "text/plain": [
              "'도은엽'"
            ],
            "application/vnd.google.colaboratory.intrinsic+json": {
              "type": "string"
            }
          },
          "metadata": {},
          "execution_count": 13
        }
      ]
    },
    {
      "cell_type": "code",
      "source": [
        "# 조건문\n",
        "if a > b:\n",
        "  a = a * 2\n",
        "  b = b / 3\n",
        "  print(a , b)\n",
        "\n",
        "# a >= b a < b a == b a <= b a != b"
      ],
      "metadata": {
        "id": "bU6kCn66M1rZ"
      },
      "execution_count": null,
      "outputs": []
    },
    {
      "cell_type": "code",
      "source": [
        "score = int(input(\"성적을 입력하세요: \"))\n",
        "if score >= 90:\n",
        "  print(\"A\")\n",
        "else:\n",
        "  print(\"A 아님\")"
      ],
      "metadata": {
        "colab": {
          "base_uri": "https://localhost:8080/"
        },
        "id": "MdS5G-sJPHsx",
        "outputId": "216b0ce3-eada-4ccc-c7c5-2dc10862e5d0"
      },
      "execution_count": null,
      "outputs": [
        {
          "output_type": "stream",
          "name": "stdout",
          "text": [
            "성적을 입력하세요: 70\n",
            "A 아님\n"
          ]
        }
      ]
    },
    {
      "cell_type": "code",
      "source": [
        "# A, B, C 학점으로 분리하려면...\n",
        "if score >= 90:\n",
        "  print(\"A\")\n",
        "elif score >= 80:\n",
        "  print(\"B\")\n",
        "elif score >= 70:\n",
        "  print(\"C\")\n",
        "else:\n",
        "  print(\"F\")\n"
      ],
      "metadata": {
        "id": "Tvfk6q6OPXtA"
      },
      "execution_count": null,
      "outputs": []
    },
    {
      "cell_type": "code",
      "source": [
        "# 반복문\n",
        "total = 0\n",
        "number = 0\n",
        "while number < 3:\n",
        "  score = int(input(\"성적? \"))\n",
        "  total = total + score\n",
        "  number = number + 1\n",
        "average = total/3\n",
        "print(\"총점:\", total, \"평균:\", average)\n"
      ],
      "metadata": {
        "colab": {
          "base_uri": "https://localhost:8080/"
        },
        "id": "hI52EmFXUEpH",
        "outputId": "36974a8d-cdbb-4bdd-c637-19990fef40e0"
      },
      "execution_count": null,
      "outputs": [
        {
          "output_type": "stream",
          "name": "stdout",
          "text": [
            "성적? 100\n",
            "성적? 95\n",
            "성적? 70\n",
            "총점: 265 평균: 88.33333333333333\n"
          ]
        }
      ]
    },
    {
      "cell_type": "code",
      "source": [
        "집합 = [100, 85, 70]\n",
        "for aaa in 집합:\n",
        "  print(aaa)"
      ],
      "metadata": {
        "colab": {
          "base_uri": "https://localhost:8080/"
        },
        "id": "roKjk7PLUnRJ",
        "outputId": "4e497dba-c969-4eb1-e39d-0f14519028d4"
      },
      "execution_count": null,
      "outputs": [
        {
          "output_type": "stream",
          "name": "stdout",
          "text": [
            "100\n",
            "85\n",
            "70\n"
          ]
        }
      ]
    },
    {
      "cell_type": "code",
      "source": [
        "total = 0\n",
        "for score in 집합:\n",
        "  total = total + score\n",
        "average = total / 3\n",
        "print(total, average)"
      ],
      "metadata": {
        "colab": {
          "base_uri": "https://localhost:8080/"
        },
        "id": "3PzrcM1VZXCu",
        "outputId": "704d8fee-3f04-4c2a-a9fc-eaf85a756ac3"
      },
      "execution_count": null,
      "outputs": [
        {
          "output_type": "stream",
          "name": "stdout",
          "text": [
            "255 85.0\n"
          ]
        }
      ]
    },
    {
      "cell_type": "code",
      "source": [
        "print(3 * '*')"
      ],
      "metadata": {
        "colab": {
          "base_uri": "https://localhost:8080/"
        },
        "id": "PnAhp2ydeyNh",
        "outputId": "4b084e30-e580-4604-9113-dfd9c138a49f"
      },
      "execution_count": null,
      "outputs": [
        {
          "output_type": "stream",
          "name": "stdout",
          "text": [
            "***\n"
          ]
        }
      ]
    },
    {
      "cell_type": "code",
      "source": [
        "number = 0 #반복횟수\n",
        "while number < 5:\n",
        "  print(number * \"*\") #\n",
        "  number = number + 1"
      ],
      "metadata": {
        "colab": {
          "base_uri": "https://localhost:8080/"
        },
        "id": "cIyFKFwOZr8j",
        "outputId": "efc14a37-dc1d-4254-9f31-f587f57a68bc"
      },
      "execution_count": null,
      "outputs": [
        {
          "output_type": "stream",
          "name": "stdout",
          "text": [
            "\n",
            "*\n",
            "**\n",
            "***\n",
            "****\n"
          ]
        }
      ]
    },
    {
      "cell_type": "code",
      "source": [
        "# 함수\n",
        "total = 0\n",
        "score = int(input(\"성적?\"))\n",
        "total = total + score\n",
        "score = int(input(\"성적?\"))\n",
        "total = total + score\n",
        "score = int(input(\"성적?\"))\n",
        "total = total + score\n"
      ],
      "metadata": {
        "id": "brGrO8Mgepis"
      },
      "execution_count": null,
      "outputs": []
    },
    {
      "cell_type": "code",
      "source": [
        "def 성적(total):\n",
        "  score = int(input(\"성적?\"))\n",
        "  total = total + score\n",
        "  return total\n",
        "total = 0\n",
        "total = 성적(total)\n",
        "total = 성적(total)\n",
        "total = 성적(total)\n",
        "average = total / 3\n",
        "print(total, average)"
      ],
      "metadata": {
        "colab": {
          "base_uri": "https://localhost:8080/"
        },
        "id": "PwR2TWBsgXM6",
        "outputId": "99b1acdd-0543-43e7-93c6-c73cee063fc8"
      },
      "execution_count": null,
      "outputs": [
        {
          "output_type": "stream",
          "name": "stdout",
          "text": [
            "성적?100\n",
            "성적?85\n",
            "성적?70\n",
            "255 85.0\n"
          ]
        }
      ]
    },
    {
      "cell_type": "code",
      "source": [],
      "metadata": {
        "id": "IRVYiszjjI2C"
      },
      "execution_count": null,
      "outputs": []
    }
  ]
}